{
 "cells": [
  {
   "cell_type": "markdown",
   "id": "70dd78db",
   "metadata": {},
   "source": [
    "<div dir='center' align='center' style=\"font-family:'B yekan';font-size:2.4em;font-weight:bold;color:red\">\n",
    "<br>\n",
    "خواندن تصاویر از وب کم<br>\n",
    "    <br>\n",
    "    و نوشتن فونت فارسی\n",
    "</div>"
   ]
  },
  {
   "cell_type": "code",
   "execution_count": 7,
   "id": "f8587fa3",
   "metadata": {},
   "outputs": [],
   "source": [
    "import arabic_reshaper\n",
    "from bidi.algorithm import get_display\n",
    "import cv2\n",
    "import numpy as np\n",
    "from PIL import ImageFont\n",
    "from PIL import Image\n",
    "from PIL import ImageDraw\n",
    "\n",
    "def txt2fa(x):                                             #  |\n",
    "    reshaped_text = arabic_reshaper.reshape(x)             #  |\n",
    "    farsi_text = get_display(reshaped_text)                #  |\n",
    "    return farsi_text \n",
    "def cvt_cv2_frame_2_pil_image(frame):\n",
    "    color_coverted = cv2.cvtColor(frame, cv2.COLOR_BGR2RGB)\n",
    "    pil_image = Image.fromarray(color_coverted)\n",
    "    return pil_image\n",
    "def cvt_pil_image_2_cv2_frame(pil_image):\n",
    "    nimg = np.array(pil_image)\n",
    "    frame = cv2.cvtColor(nimg, cv2.COLOR_RGB2BGR)\n",
    "    return frame\n",
    "def Put_Persian_text(txt,pil_image,w_h=(0, 0)):\n",
    "    draw = ImageDraw.Draw(pil_image) \n",
    "    \n",
    "    bidi_text =txt2fa(txt)\n",
    "    \n",
    "    arabic_font = ImageFont.truetype('BLOTUSB.TTF', 40)\n",
    "    draw.text(w_h, bidi_text, (255,0,255), font=arabic_font)\n",
    "    \n",
    "    return pil_image"
   ]
  },
  {
   "cell_type": "code",
   "execution_count": 8,
   "id": "abcad989",
   "metadata": {},
   "outputs": [
    {
     "name": "stdout",
     "output_type": "stream",
     "text": [
      "True\n"
     ]
    }
   ],
   "source": [
    "cap = cv2.VideoCapture(0)  \n",
    "\n",
    "# loop runs if capturing has been initialized   \n",
    "while (1):  \n",
    "    # reads frames from a camera   \n",
    "    ret, frame = cap.read()\n",
    "    # Display an original image  \n",
    "    #------------------------------------------Conver to PIL----    \n",
    "    pil_image=cvt_cv2_frame_2_pil_image(frame)\n",
    "    #-----------------------------------------------------------\n",
    "    text = \"آزمایش چاپ حروف فارسی.پژگچ\"\n",
    "\n",
    "    pil_image=Put_Persian_text(text,pil_image,(10,150))\n",
    "    #------------------------------------------Conver to CV2----    \n",
    "    frame= cvt_pil_image_2_cv2_frame(pil_image)\n",
    "    #-----------------------------------------------------------\n",
    "    cv2.imshow('Original', frame)  \n",
    "     \n",
    "\n",
    "    q=cv2.waitKey(1)\n",
    "    if q==ord(\"q\"):\n",
    "        break\n",
    "   \n",
    "# Close the window   \n",
    "cap.release()  \n",
    "   \n",
    "# De-allocate any associated memory usage  \n",
    "print(ret)\n",
    "cv2.destroyAllWindows()  \n",
    "\n"
   ]
  },
  {
   "cell_type": "code",
   "execution_count": null,
   "id": "cf832726",
   "metadata": {},
   "outputs": [],
   "source": []
  }
 ],
 "metadata": {
  "kernelspec": {
   "display_name": "Python 3",
   "language": "python",
   "name": "python3"
  },
  "language_info": {
   "codemirror_mode": {
    "name": "ipython",
    "version": 3
   },
   "file_extension": ".py",
   "mimetype": "text/x-python",
   "name": "python",
   "nbconvert_exporter": "python",
   "pygments_lexer": "ipython3",
   "version": "3.8.8"
  }
 },
 "nbformat": 4,
 "nbformat_minor": 5
}
